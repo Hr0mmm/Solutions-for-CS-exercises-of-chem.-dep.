{
 "cells": [
  {
   "cell_type": "markdown",
   "id": "8389936b",
   "metadata": {},
   "source": [
    "#### <p style='text-align: justify;'>1. Напечатайте следующие срезы строки `s = 'молибден'`:<br>a) `мол`<br>б) `иб`<br>в) `де`<br>г) `ибд`<br>д) `дби`<br>е) `нбо`"
   ]
  },
  {
   "cell_type": "code",
   "execution_count": null,
   "id": "7eb9791c",
   "metadata": {},
   "outputs": [],
   "source": [
    "s='молибден'\n",
    "print(s[0:3]) #а\n",
    "print(s[3:5]) #б\n",
    "print(s[5:7]) #в\n",
    "print(s[3:6]) #г\n",
    "print(s[5:2:-1]) #д\n",
    "print(s[7:0:-3]) #е"
   ]
  },
  {
   "cell_type": "markdown",
   "id": "619baee7",
   "metadata": {},
   "source": [
    "#### <p style='text-align: justify;'>1. Напечатайте следующие срезы строки `s = 'вольфрам'`:<br>a) `вол`<br>б) `ьф`<br>в) `ра`<br>г) `ьфр`<br>д) `рфь`<br>е) `мфо`"
   ]
  },
  {
   "cell_type": "code",
   "execution_count": null,
   "id": "b2693f21",
   "metadata": {},
   "outputs": [],
   "source": [
    "s = 'вольфрам'\n",
    "print(s[0:3])\n",
    "print(s[3:5])\n",
    "print(s[5:7])\n",
    "print(s[3:6])\n",
    "print(s[-3:-6:-1])\n",
    "print(s[-1:-8:-3])"
   ]
  },
  {
   "cell_type": "markdown",
   "id": "9fb40a29",
   "metadata": {},
   "source": [
    "#### <p style='text-align: justify;'>2. Напишите программу, которая запрашивает брутто-формулу углеводорода CnH2n (n>1) и, выводит сообщение, может ли он являться алкеном или нет. Например, при вводе `C10H20`, программа должна вывести:<br>`Может быть алкеном`"
   ]
  },
  {
   "cell_type": "code",
   "execution_count": null,
   "id": "f7845143",
   "metadata": {},
   "outputs": [],
   "source": [
    "form = input('Формула углеводорода: ')\n",
    "\n",
    "c_pos = form.find('C')\n",
    "h_pos = form.find('H')\n",
    "\n",
    "C = form[c_pos+1:h_pos]\n",
    "H = form[h_pos+1:]\n",
    "\n",
    "\n",
    "C_num = int(C) if C else 1\n",
    "H_num = int(H) if H else 1\n",
    "\n",
    "if H_num == 2 * C_num:\n",
    "    print('Может быть алкеном')\n",
    "else:\n",
    "    print('Не может быть алкеном')"
   ]
  },
  {
   "cell_type": "markdown",
   "id": "7f59c3db",
   "metadata": {},
   "source": [
    "#### <p style='text-align: justify;'>3. Нормальные алканы  (<i>н-</i>алканы) — это углеводороды состава $\\mathrm{C}_n\\mathrm{H}_{2n+2}$, в которых атомы углерода образуют одну неразветвлённую цепь. Напишите программу, которая запрашивает брутто-формулу углеводорода ($n>1$) и, если состав удовлетворяет <i>н-</i>алкану, выводит его структурную формулу, а если не удовлетворяет — сообщение `Такого алкана не существует`. Например, при вводе `C4H10`, программа должна вывести:\n",
    "#### `H3C-CH2-CH2-CH3`\n"
   ]
  },
  {
   "cell_type": "code",
   "execution_count": null,
   "id": "bb7f12ee",
   "metadata": {},
   "outputs": [],
   "source": [
    "form = input('Формула углеводорода: ')\n",
    "\n",
    "c_pos = form.find('C')\n",
    "h_pos = form.find('H') \n",
    "\n",
    "C = form[c_pos+1:h_pos]\n",
    "H = form[h_pos+1:]\n",
    "\n",
    "\n",
    "C_num = int(C) if C else 1\n",
    "H_num = int(H) if H else 1\n",
    "\n",
    "if H_num == (2 * C_num)+2:\n",
    "    quan_CH2=C_num-2\n",
    "    print('H3C-'+'CH2-'*quan_CH2+'CH3')\n",
    "else:\n",
    "    print('Такого алкана не существует')"
   ]
  },
  {
   "cell_type": "markdown",
   "id": "fa5fe7ab",
   "metadata": {},
   "source": [
    "#### <p style='text-align: justify;'>4. Электронная конфигурация атома — формула расположения электронов по атомным орбиталям. Каждая орбиталь характеризуется главным квантовым числом $n = 1, 2, 3, \\dots$, определяющим номер уровня. Каждый уровень состоит из одного или нескольуих подуровней, определяемых побочным квантовым числом, $l = 0, 1, 2, \\dots, n-1$. Значения $l = 0, 1, 2, 3, 4$ обозначаются буквами `s`, `p`, `d`, `f`, `g` соответственно. Таким образом, каждый уровень имеет $n$ подуровней. На заданном подуровне максимально может находиться $2(2l + 1)$ электронов. Согласно [правилу Маделунга](https://ru.wikipedia.org/wiki/%D0%9F%D1%80%D0%B0%D0%B2%D0%B8%D0%BB%D0%BE_%D0%9A%D0%BB%D0%B5%D1%87%D0%BA%D0%BE%D0%B2%D1%81%D0%BA%D0%BE%D0%B3%D0%BE), $N$ электронов заполняют орбитали в порядке возрастания $n + l$, при этом, если две орбитали имеют одинаковое значение $n + l$, они заполняются в порядке возрастания $n$. Например, основным состоянием атома титана ($N = 22$) является $1s^22s^22p^63s^23p^64s^23d^2$. Напишите программу, запрашивающую $N$ ($N  \\leqslant 118$, Оганесон) и выводящую электронную формулу элемента. Например, для титана программа должна вывести:\n",
    "#### `1s2 2s2 2p6 3s2 3p6 4s2 3d2`"
   ]
  },
  {
   "cell_type": "code",
   "execution_count": null,
   "id": "09fdf6d2",
   "metadata": {},
   "outputs": [],
   "source": [
    "N = int(input(\"Введите число электронов N (<=118): \"))\n",
    "\n",
    "orbitals = []\n",
    "for n in range(1, 8): \n",
    "    for l in range(0, n):\n",
    "        orbitals.append((n, l))\n",
    "\n",
    "orbitals.sort(key=lambda x: (x[0] + x[1], x[0]))\n",
    "\n",
    "l_letter = {0: 's', 1: 'p', 2: 'd', 3: 'f', 4: 'g'}\n",
    "\n",
    "result = []\n",
    "remaining = N\n",
    "\n",
    "for n, l in orbitals:\n",
    "    capacity = 2 * (2*l + 1)\n",
    "    if remaining <= 0:\n",
    "        break\n",
    "    if remaining >= capacity:\n",
    "        result.append(f\"{n}{l_letter[l]}{capacity}\")\n",
    "        remaining -= capacity\n",
    "    else:\n",
    "        result.append(f\"{n}{l_letter[l]}{remaining}\")\n",
    "        remaining = 0\n",
    "\n",
    "\n",
    "print(\" \".join(result))"
   ]
  },
  {
   "cell_type": "markdown",
   "id": "e504ba9d",
   "metadata": {},
   "source": [
    "#### <p style='text-align: justify;'>5*. [Алгоритм Луна](https://ru.wikipedia.org/wiki/%D0%90%D0%BB%D0%B3%D0%BE%D1%80%D0%B8%D1%82%D0%BC_%D0%9B%D1%83%D0%BD%D0%B0) (Luhn algorithm) разработан сотрудником IBM Хансом Питером Луном в 1954-м году. Данный алгоритм применяется при формировании номеров всех банковских карт, некоторых номеров дисконтных карт, кодов социального страхования, IMEI-кодов и др. Формула проста:\n",
    "`рассмотрим число:`<br>\n",
    "`5 0 6 2 8 2 1 2 3 4 5 6 7 8 9 2`<br>\n",
    "`↓   ↓   ↓   ↓   ↓   ↓   ↓   ↓   // умножаем каждую вторую цифру на 2`<br>\n",
    "`10  12  16  2   6   10  14  18`<br>\n",
    "`↓   ↓   ↓           ↓   ↓   ↓`<br>\n",
    "`1   3   7           1   5   9   // у чисел больше 9 берём сумму цифр`<br>\n",
    "`1 0 3 2 7 2 2 2 6 4 1 6 5 8 9 2 // нечётные цифры и преобразованные чётные`<br>\n",
    "`1+0+3+2+7+2+2+2+6+4+1+6+5+8+9+2 = 60`\n",
    "#### <p style='text-align: justify;'>60 делится на 10 без остатка, значит, номер введён правильно. Напишите программу, которая запрашивает 16-значное целое число и определяет, может ли оно быть корректным номером кредитной карты."
   ]
  },
  {
   "cell_type": "code",
   "execution_count": null,
   "id": "e7be7848",
   "metadata": {},
   "outputs": [],
   "source": [
    "num = input(\"Введите номер карты: \")\n",
    "\n",
    "quant = [int(x) for x in num]\n",
    "\n",
    "for i in range(0, 16, 2):\n",
    "    quant[i] *= 2\n",
    "    if quant[i] > 9:\n",
    "        quant[i] -= 9\n",
    "\n",
    "if sum(quant) % 10 == 0:\n",
    "    print(\"Корректный номер\")\n",
    "else:\n",
    "    print(\"Некорректный номер\")"
   ]
  }
 ],
 "metadata": {
  "language_info": {
   "name": "python"
  }
 },
 "nbformat": 4,
 "nbformat_minor": 5
}
