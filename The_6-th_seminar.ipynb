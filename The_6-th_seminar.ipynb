{
 "cells": [
  {
   "cell_type": "markdown",
   "id": "69671e05",
   "metadata": {},
   "source": [
    "#### <p style='text-align: justify;'>1. Ниже приведены типы кристаллических решёток металлов первого ряда d-элементов. Некоторые элементы имеют разные кристаллические структуры при разных значениях температуры и давления. Задав соответствующие множества Python, определите, какие металлы: (а) существуют только в гранецентрированной кубической (ГЦК, FCC), объёмноцентрированной кубической (ОЦК, BCC) или гексагональной плотноупакованной (ГПУ, HCP) структурах; (б) существуют ровно в двух из этих структур; (в) не образуют ГПУ структуру; (г) cуществуют ли какие-либо из них во всех трёх структурах?\n",
    "- fcc: Cu, Co, Fe, Mn, Ni, Sc\n",
    "- bcc: Cr, Fe, Mn, Ti, V\n",
    "- hcp: Co, Ni, Sc, Ti, Zn"
   ]
  },
  {
   "cell_type": "code",
   "execution_count": null,
   "id": "57a136ba",
   "metadata": {},
   "outputs": [],
   "source": [
    "fcc = {\"Cu\", \"Co\", \"Fe\", \"Mn\", \"Ni\", \"Sc\"}\n",
    "bcc = {\"Cr\", \"Fe\", \"Mn\", \"Ti\", \"V\"}\n",
    "hcp = {\"Co\", \"Ni\", \"Sc\", \"Ti\", \"Zn\"}\n",
    "\n",
    "# (а) Только в одной структуре\n",
    "print(\"(а) Только в одной:\", \n",
    "      fcc - (bcc|hcp), \n",
    "      bcc - (fcc|hcp), \n",
    "      hcp - (fcc|bcc))\n",
    "\n",
    "# (б) Ровно в двух\n",
    "two = (fcc & bcc - hcp) | (fcc & hcp - bcc) | (bcc & hcp - fcc)\n",
    "print(\"(б) Ровно в двух:\", two)\n",
    "\n",
    "# (в) Не ГПУ\n",
    "print(\"(в) Не ГПУ:\", (fcc|bcc|hcp) - hcp)\n",
    "\n",
    "# (г) Во всех трёх\n",
    "print(\"(г) Во всех трёх:\", fcc & bcc & hcp or \"нет\")"
   ]
  },
  {
   "cell_type": "markdown",
   "id": "a93b68af",
   "metadata": {},
   "source": [
    "#### <p style='text-align: justify;'>2. Последовательность нуклеотидов в ДНК вводится в виде строки, содержащей только прописные буквы: `A`, `C`, `G` и `Т`, например: `TGGATCCA`. Напишите, программу, которая определяет, является ли введённая последовательность ДНК-палиндромом, то есть, комплементарной самой себе с начала и с конца. Например, приведённая выше строка в этом смысле является ДНК-палиндромом. Комплементарные пары оснований: (`A`, `T`) и (`C`, `G`) заданы в соответстующем словаре, который необходимо использовать."
   ]
  },
  {
   "cell_type": "code",
   "execution_count": null,
   "id": "5b9670a8",
   "metadata": {},
   "outputs": [],
   "source": [
    "comp = {'A': 'T', 'T': 'A', 'C': 'G', 'G': 'C'}\n",
    "dna = input('Введите последовательность').strip()\n",
    "\n",
    "is_pal = True\n",
    "for i in range(len(dna)):\n",
    "    if comp[dna[i]] != dna[len(dna)-1-i]:\n",
    "        is_pal = False\n",
    "        break\n",
    "\n",
    "print(is_pal)"
   ]
  },
  {
   "cell_type": "markdown",
   "id": "8e04e7ea",
   "metadata": {},
   "source": [
    "#### <p style='text-align: justify;'>3. Напишите функцию `isPrime(n)`, которая для любого натурального $n$ возвращает `True`, если $n$ простое, и `False` — если нет. С использованием этой функции напишите программу, которая запрашивает у пользователя целое число и определяет, является ли оно простым. "
   ]
  },
  {
   "cell_type": "code",
   "execution_count": null,
   "id": "21c0237a",
   "metadata": {},
   "outputs": [],
   "source": [
    "from math import sqrt\n",
    "\n",
    "def isPrime(n):\n",
    "    if n < 2:\n",
    "        return False\n",
    "    for i in range(2, int(sqrt(n)) + 1):\n",
    "        if n % i == 0:\n",
    "            return False\n",
    "    return True\n",
    "\n",
    "num = int(input('Введите число'))\n",
    "print(isPrime(num))"
   ]
  },
  {
   "cell_type": "markdown",
   "id": "d7f9da1b",
   "metadata": {},
   "source": [
    "#### <p style='text-align: justify;'>4. Частный случай <i>формулы де Полиньяка</i> $\\sum\\limits_{i=1} \\lfloor \\frac n {5^i}\\rfloor$ позволяет вычислить количество нулей в конце числа $n!$ ($\\lfloor x\\rfloor$ означает наибольшее целое, меньшее или равное $x$ и может быть вычислено при помощи `math.floor()`. Подумайте, до какого значения $i$ необходимо вести суммирование.)<br>Напишите функцию `Polignac(n)`, которая вычисляет значение по формуле де Полиньяка и проверьте её работу на примере, введённом пользователем."
   ]
  },
  {
   "cell_type": "code",
   "execution_count": null,
   "id": "5a945d30",
   "metadata": {},
   "outputs": [],
   "source": [
    "import math\n",
    "\n",
    "def Polignac(n):\n",
    "    zeros = 0\n",
    "    i = 1\n",
    "    while n // (5**i) > 0:\n",
    "        zeros += n // (5**i)\n",
    "        i += 1\n",
    "    return zeros\n",
    "\n",
    "n = int(input())\n",
    "print(Polignac(n))"
   ]
  },
  {
   "cell_type": "markdown",
   "id": "6800f98b",
   "metadata": {},
   "source": [
    "#### <p style='text-align: justify;'>5*. Используя приведённый ниже словарь азбуки Морзе, напишите две функции `text_to_morse(st)` и `morse_to_text(st)`, которые преобразуют введённый текст в и из кода Морзе. Для разделения отдельных букв используются пробелы, для разделения слов  — слэши (`/`). Например, строка `PYTHON 3` превращается в<br>`.--. -.-- - .... --- -. / ...--`<br>Протестируйте написанные функции."
   ]
  },
  {
   "cell_type": "code",
   "execution_count": null,
   "id": "c8833356",
   "metadata": {},
   "outputs": [],
   "source": [
    "morse = {\n",
    "    'A': '.-', 'B': '-...', 'C': '-.-.', 'D': '-..', 'E': '.', 'F': '..-.', 'G': '--.', 'H': '....',\n",
    "    'I': '..', 'J': '.---', 'K': '-.-', 'L': '.-..', 'M': '--', 'N': '-.', 'O': '---', 'P': '.--.',\n",
    "    'Q': '--.-', 'R': '.-.', 'S': '...', 'T': '-', 'U': '..-', 'V': '...-', 'W': '.--', 'X': '-..-',\n",
    "    'Y': '-.--', 'Z': '--..', '1': '.----', '2': '..---', '3': '...--', '4': '....-', '5': '.....',\n",
    "    '6': '-....', '7': '--...', '8': '---..', '9': '----.', '0': '-----', ' ': '/'\n",
    "}\n",
    "\n",
    "def text_to_morse(st):\n",
    "    return ' '.join(morse[char] for char in st.upper())\n",
    "\n",
    "def morse_to_text(st):\n",
    "    morse_reverse = {v: k for k, v in morse.items()}\n",
    "    return ''.join(morse_reverse[code] for code in st.split())\n",
    "\n",
    "text = \"PYTHON 3\"\n",
    "morse_code = text_to_morse(text)\n",
    "print(morse_code)\n",
    "print(morse_to_text(morse_code))"
   ]
  }
 ],
 "metadata": {
  "language_info": {
   "name": "python"
  }
 },
 "nbformat": 4,
 "nbformat_minor": 5
}
