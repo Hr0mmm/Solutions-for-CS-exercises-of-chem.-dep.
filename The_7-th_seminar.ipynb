{
 "cells": [
  {
   "cell_type": "markdown",
   "id": "6b186385",
   "metadata": {},
   "source": [
    "#### <p style='text-align: justify;'>1. Согласно [теории теплоёмкости Эйнштейна](https://ru.wikipedia.org/wiki/%D0%A2%D0%B5%D0%BE%D1%80%D0%B8%D1%8F_%D1%82%D0%B5%D0%BF%D0%BB%D0%BE%D1%91%D0%BC%D0%BA%D0%BE%D1%81%D1%82%D0%B8_%D0%AD%D0%B9%D0%BD%D1%88%D1%82%D0%B5%D0%B9%D0%BD%D0%B0) зависимость теплоёмкости кристалла $C_{V,m}$ от температуры выражается соотношением: $$C_{V,m} = 3R\\left(\\frac{\\Theta_E} T\\right)^2 \\frac{\\exp\\left(\\frac{\\Theta_E}T\\right)}{\\left[\\exp\\left(\\frac{\\Theta_E}T\\right)- 1\\right]^2} $$ где температура Эйнштейна, $\\Theta_E$, является константой для данного материала.<br>Напишите функцию `CV_Einstein(T, ThetaE)` и с её помощью вычислите $C_{V,m}$ при $273.15 \\: \\mathrm{K}$ для:\n",
    "- <b>(а) алмаза ($\\Theta_E =  1450\\:\\mathrm{K}$)</b>\n",
    "- <b>(б) алюминия ($\\Theta_E = 290 \\: \\mathrm{K}$)</b>"
   ]
  },
  {
   "cell_type": "code",
   "execution_count": null,
   "id": "e5d88631",
   "metadata": {},
   "outputs": [],
   "source": [
    "import math as m\n",
    "\n",
    "def CV_Einstein(T, ThetaE):\n",
    "\n",
    "    R = 8.31446261815324\n",
    "    \n",
    "    if T == 0:\n",
    "        return 0\n",
    "    \n",
    "    x = ThetaE / T\n",
    "    exp_x = m.exp(x)\n",
    "    \n",
    "    C_Vm = 3 * R * (x**2) * exp_x / ((exp_x - 1)**2)\n",
    "    return C_Vm\n",
    "\n",
    "T = 273.15\n",
    "ThetaE_diamond = 1450\n",
    "C_diamond = CV_Einstein(T, ThetaE_diamond)\n",
    "\n",
    "\n",
    "ThetaE_aluminum = 290\n",
    "C_aluminum = CV_Einstein(T, ThetaE_aluminum)\n",
    "\n",
    "print(f'(a) Алмаз: C_V,m = {C_diamond:.3f} Дж/(моль·К)')\n",
    "print(f'(б) Алюминий: C_V,m = {C_aluminum:.3f} Дж/(моль·К)')"
   ]
  },
  {
   "cell_type": "markdown",
   "id": "ba7b0ba8",
   "metadata": {},
   "source": [
    "#### <p style='text-align: justify;'>2. Значение ПИ можно приближённо вычислить при помощи [метода Монте-Карло](https://ru.wikipedia.org/wiki/%D0%9C%D0%B5%D1%82%D0%BE%D0%B4_%D0%9C%D0%BE%D0%BD%D1%82%D0%B5-%D0%9A%D0%B0%D1%80%D0%BB%D0%BE). На плоскости $Oxy$ рассмотрим область $0 \\leqslant x \\leqslant 1$ и $0 \\leqslant y \\leqslant 1$ (это квадрат c площадью $1$). Проведём график функции $y(x) = \\sqrt{1-x^2}$, представляющий собой четверть окружность (площадь области под графиком равна $\\frac \\pi 4$). Тогда, если в этом квадрате случайным образом разместить $n$ точек, то доля точек, находящихся ниже $y(x)$, будет с ростом $n$ стремиться к соотношению площадей, т.е. к $\\frac \\pi 4$.<br><center><img src=\"https://lk.challenges2024.ru/visualization/pi_monte.png\" width=\"30%\"></center><br> Напишите функцию `MonteCarlo(n)`, которая вычисляет приближённое значение $\\pi$, используя $n$ случайных точек. Для генерации случайного числа в диапазоне от $0$ до $1$ можно использовать функцию `random()` из библиотеки `random`.<br>Напишите программу, которая запрашивает у пользователя число точек $n$, методом Монте-Карло вычисляет приближённое значение $\\pi$, и выводит приближённое значение, его разницу с точным значением $\\pi$, и относительную погрешность вычисления."
   ]
  },
  {
   "cell_type": "code",
   "execution_count": null,
   "id": "3201a562",
   "metadata": {},
   "outputs": [],
   "source": [
    "import random\n",
    "import math as m\n",
    "\n",
    "def MonteCarlo(n):\n",
    "    \n",
    "    points_inside = 0\n",
    "    \n",
    "    for _ in range(n):\n",
    "        x = random.random() \n",
    "        y = random.random() \n",
    "        \n",
    "        if x**2 + y**2 <= 1:\n",
    "            points_inside += 1\n",
    "    \n",
    "    approx_pi = 4 * points_inside / n\n",
    "    return approx_pi\n",
    "\n",
    "\n",
    "n = int(input('Введите число точек n: '))\n",
    "\n",
    "approx_pi = MonteCarlo(n)\n",
    "difference = abs(approx_pi - m.pi)\n",
    "relative_error = (difference / m.pi) * 100\n",
    "\n",
    "print(f'Приближённое значение pi: {approx_pi:.8f}')\n",
    "print(f'Точное значение pi: {m.pi:.8f}')\n",
    "print(f'Разница: {difference:.8f}')\n",
    "print(f'Относительная погрешность: {relative_error:.4f}%')"
   ]
  },
  {
   "cell_type": "markdown",
   "id": "877c4cf1",
   "metadata": {},
   "source": [
    "#### <p style='text-align: justify;'>3. Числа изомерных алкильных углеводородных радикалов с n атомами углерода A_n составляют последовательность, в которой первые 4 члена заданы в явном виде, а следующие можно вычислить пользуясь [рекуррентной формулой](https://ru.wikipedia.org/wiki/%D0%A0%D0%B5%D0%BA%D1%83%D1%80%D1%80%D0%B5%D0%BD%D1%82%D0%BD%D0%B0%D1%8F_%D1%84%D0%BE%D1%80%D0%BC%D1%83%D0%BB%D0%B0) : $$A_0 =  1,\\:\\:\\:A_1 =  1,\\:\\:\\:A_2 =  1,\\:\\:\\:A_3 =  2,\\:\\:\\:A_{n+1}=\\frac 16 \\left(\\sum\\limits_{i=0}^n \\sum\\limits_{j=0}^{n-i} \\left(A_iA_jA_{n-i-j}\\right) + 3\\sum\\limits_{i=0}^{n//2} \\left(A_iA_{n-2i}\\right) + 2 A_{n//3}\\right)$$ Напишите программу, которая запрашивает число $k$ и вычисляет и выводит $A_k$ &mdash; число  изомерных углеводородных радикалов с $k$ атомами углерода. Например, для $k=10$ программа должна вернуть $507$."
   ]
  },
  {
   "cell_type": "code",
   "execution_count": null,
   "id": "56ea8c40",
   "metadata": {},
   "outputs": [],
   "source": [
    "A = [1, 1, 1, 2]\n",
    "k = int(input('Введите k'))\n",
    "for n in range(3, k):\n",
    "    s1 = 0\n",
    "    for i in range(n+1):\n",
    "        for j in range(n-i+1):\n",
    "            s1 += A[i]*A[j]*A[n-i-j]\n",
    "    s2 = 0\n",
    "    for i in range(n//2+1):\n",
    "        s2 += A [i]*A[n-2*i]\n",
    "    Ai = (s1 + 3*s2 + 2*A[n//3])//6\n",
    "    A.append(Ai)\n",
    "\n",
    "print(A[-1])"
   ]
  },
  {
   "cell_type": "markdown",
   "id": "5c093c17",
   "metadata": {},
   "source": [
    "#### <p style='text-align: justify;'> 4.* Напишите функцию `get_element_symbols(formula)`, которая преобразует строку, содержащую формулу химического соединения, например `'CH3CH2Cl'` в список, содержащий символы химических элементов в том порядке, в котором они встречаются в формуле (в примере выше это будет список `['C', 'H', 'C', 'H', 'Cl']`).<br>Напишите программу, которая запрашивает у пользователя формулу химического соединения, при помощи написанной ранее функции превращает её в список, затем превращает этот список в множество, содержащее уникальные символы элементов (в нашем примере: `{'C', 'H', 'Cl'}`) выводит ответ, является ли введённое соединение углеводородом (т.е. содежит ли только углерод и водород) или нет.<br> Так как символы элементов могут содержать прописные и строчные буквы, рекомендуется использовать методы `str.isupper()` и `str.islower()`, пример использования которых приведён ниже."
   ]
  },
  {
   "cell_type": "code",
   "execution_count": null,
   "id": "5edcce7c",
   "metadata": {},
   "outputs": [],
   "source": [
    "def get_element_symbols(formula):\n",
    "    elements = []\n",
    "    i = 0\n",
    "    n = len(formula)\n",
    "    \n",
    "    while i < n:\n",
    "        if formula[i].isupper():\n",
    "            if i + 1 < n and formula[i + 1].islower():\n",
    "                element = formula[i] + formula[i + 1]\n",
    "                elements.append(element)\n",
    "                i += 2\n",
    "            else:\n",
    "                elements.append(formula[i])\n",
    "                i += 1\n",
    "        else:\n",
    "            i += 1\n",
    "    \n",
    "    return elements\n",
    "\n",
    "formula = input('Введите химическую формулу: ')\n",
    "\n",
    "element_list = get_element_symbols(formula)\n",
    "print('Список элементов:', element_list)\n",
    "\n",
    "unique_elements = set(element_list)\n",
    "print('Уникальные элементы:', unique_elements)\n",
    "\n",
    "if unique_elements == {'C', 'H'}:\n",
    "    print('Это углеводород')\n",
    "else:\n",
    "    print('Это не углеводород')"
   ]
  }
 ],
 "metadata": {
  "language_info": {
   "name": "python"
  }
 },
 "nbformat": 4,
 "nbformat_minor": 5
}
