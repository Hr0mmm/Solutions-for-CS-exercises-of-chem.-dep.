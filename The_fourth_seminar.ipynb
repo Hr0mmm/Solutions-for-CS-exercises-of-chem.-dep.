{
 "cells": [
  {
   "cell_type": "markdown",
   "id": "9f88ab85",
   "metadata": {},
   "source": [
    "#### <p style='text-align: justify;'>1. Напишите программу, которая запрашивает натуральное число $n$, создаёт и выводит на печать список, состоящий из $n$ первых членов ряда [чисел Фибоначчи](https://ru.wikipedia.org/wiki/%D0%A7%D0%B8%D1%81%D0%BB%D0%B0_%D0%A4%D0%B8%D0%B1%D0%BE%D0%BD%D0%B0%D1%87%D1%87%D0%B8) (в котором первые два числа равны 1 и 1, а каждое последующее число равно сумме двух предыдущих чисел)."
   ]
  },
  {
   "cell_type": "code",
   "execution_count": null,
   "id": "ed444896",
   "metadata": {},
   "outputs": [],
   "source": [
    "n = int(input('Введите натуральное число n: '))\n",
    "\n",
    "if n <= 0:\n",
    "    print('Ошибка: n должно быть натуральным числом')\n",
    "elif n == 1:\n",
    "    fibonacci_list = [1]\n",
    "elif n == 2:\n",
    "    fibonacci_list = [1, 1]\n",
    "else:\n",
    "    fibonacci_list = [1, 1]\n",
    "    for i in range(2, n):\n",
    "        next_number = fibonacci_list[i-1] + fibonacci_list[i-2]\n",
    "        fibonacci_list.append(next_number)\n",
    "\n",
    "print('Список чисел Фибоначчи: ', fibonacci_list)"
   ]
  },
  {
   "cell_type": "code",
   "execution_count": null,
   "id": "54f5035d",
   "metadata": {},
   "outputs": [],
   "source": [
    "# код Фирсова\n",
    "fib = [1,1]\n",
    "n = int(input('Введите натуральное число n: '))\n",
    "if n == 1: fib.pop() \n",
    "for i in range (2,n):    \n",
    "    fib.append(fib[-1]+fib[-2])\n",
    "print (fib)"
   ]
  },
  {
   "cell_type": "markdown",
   "id": "3e06e688",
   "metadata": {},
   "source": [
    "#### <p style='text-align: justify;'>2. Напишите программу, которая вычисляет [арифметико-геометрическое среднее](https://ru.wikipedia.org/wiki/%D0%A1%D1%80%D0%B5%D0%B4%D0%BD%D0%B5%D0%B5_%D0%B0%D1%80%D0%B8%D1%84%D0%BC%D0%B5%D1%82%D0%B8%D0%BA%D0%BE-%D0%B3%D0%B5%D0%BE%D0%BC%D0%B5%D1%82%D1%80%D0%B8%D1%87%D0%B5%D1%81%D0%BA%D0%BE%D0%B5) (АГС) величин $a$ и $b$, определяющееся как предел последовательности:<br><center>$a_0 = a$, &nbsp;$b_0 = b$, &nbsp;$a_{n+1} = \\frac12 (a_n+b_n)$, &nbsp;$b_{n+1}=\\sqrt{a_nb_n}$.</center><br>Так как обе последовательности ($a_n$ и $b_n$) сходятся к одному числу, вычисления ведите, пока относительная разница между $a_n$ и $b_n$ ($\\left|\\frac{a_n - b_n}{a_n}\\right|$) по абсолютной величине не станет меньше $1 \\cdot10^{-15}$."
   ]
  },
  {
   "cell_type": "code",
   "execution_count": null,
   "id": "d2456db8",
   "metadata": {},
   "outputs": [],
   "source": [
    "import math\n",
    "a = float(input('Введите число a: '))\n",
    "b = float(input('Введите число b: '))\n",
    "\n",
    "a0 = a\n",
    "b0 = b\n",
    "diff = 1\n",
    "\n",
    "while diff > 1e-15:\n",
    "    a_prev = a0\n",
    "    b_prev = b0\n",
    "       \n",
    "    a0 = 0.5 * (a_prev + b_prev)  \n",
    "    b0 = math.sqrt(a_prev * b_prev)        \n",
    "    diff = abs((a0 - b0) / a0)\n",
    "    \n",
    "print('a =', a0, 'b =', b0, 'разница =', diff)"
   ]
  },
  {
   "cell_type": "markdown",
   "id": "d4d42e1d",
   "metadata": {},
   "source": [
    "#### <p style='text-align: justify;'>3. Итерационный способ вычисления концентрации ионов водорода $[\\mathrm{H^+}]$ в растворе слабой кислоты, если известны константа кислотности $K_a$, и концентрация кислоты $c$, заключается в многократном использовании формулы $[\\mathrm{H^+}]_{n+1}=\\sqrt{K_a(c-[\\mathrm{H^+}]_n)}$ (результат предыдущей итерации используется для следующей), начиная с $[\\mathrm{H^+}]_0=0$. Итерации заканчиваются, когда изменение $[\\mathrm{H^+}]$ по абсолютной величине станет меньше заранее заданного критерия точности $TOL$. Напишите программу, которая запрашивает концентрацию $c$ уксусной кислоты ($K_a = 1.78 \\cdot 10^{-5}$) и выводит $[\\mathrm{H^+}]$ и $\\mathrm{pH}$. Используйте критерий точности $TOL = 1\\cdot 10^{-10}$."
   ]
  },
  {
   "cell_type": "code",
   "execution_count": null,
   "id": "0b6e3ac2",
   "metadata": {},
   "outputs": [],
   "source": [
    "import math\n",
    "c=float(input())\n",
    "h=0\n",
    "h1=math.sqrt(1.78e-5*(c-h))\n",
    "while abs(h1-h)>1e-10:\n",
    "    h=h1\n",
    "    h1=math.sqrt(1.78e-5*(c-h1))\n",
    "print (h1)\n",
    "print ('pH=', -math.log10(h1))"
   ]
  },
  {
   "cell_type": "markdown",
   "id": "0bdd1443",
   "metadata": {},
   "source": [
    "#### <p style='text-align: justify;'>4. Напишите программу, которая запрашивает у пользователя натуральное число n и выводит сумму цифр в числе n! "
   ]
  },
  {
   "cell_type": "code",
   "execution_count": null,
   "id": "827561c6",
   "metadata": {},
   "outputs": [],
   "source": [
    "import math\n",
    "num = int(input('число членов ряда'))\n",
    "n = [1]\n",
    "if num <= 0:\n",
    "    print('число должно быть натуральным')\n",
    "else:\n",
    "    for i in range (1, num+1):\n",
    "        n.append([n-1]*i)\n",
    "print(n)"
   ]
  },
  {
   "cell_type": "markdown",
   "id": "ee982558",
   "metadata": {},
   "source": [
    "#### <p style='text-align: justify;'>5*. Напишите программу, которая запрашивает натуральное число $n$ и вычисляет приближение к числу $\\pi$, просуммировав первые $n$ членов ряда Мадхавы: $$\\pi = \\sqrt{12}\\left( 1 - \\frac1{3\\cdot3} + \\frac1{5\\cdot3^2} - \\frac1{7\\cdot3^3} + \\cdots \\right)$$ Выведите разность полученного приближения и точного значения $\\pi$."
   ]
  },
  {
   "cell_type": "code",
   "execution_count": null,
   "id": "728c59f9",
   "metadata": {},
   "outputs": [],
   "source": [
    "import math as m\n",
    "n = int(input('введите натуральное число n'))\n",
    "summ_1 = 0\n",
    "base = m.sqrt(12)\n",
    "for i in range (0, n):\n",
    "    summ_0 = (-1)**i/((2*i+1)*3**i)\n",
    "    summ_1 += summ_0\n",
    "ans = base*summ_1 - m.pi\n",
    "print(ans)"
   ]
  }
 ],
 "metadata": {
  "language_info": {
   "name": "python"
  }
 },
 "nbformat": 4,
 "nbformat_minor": 5
}
