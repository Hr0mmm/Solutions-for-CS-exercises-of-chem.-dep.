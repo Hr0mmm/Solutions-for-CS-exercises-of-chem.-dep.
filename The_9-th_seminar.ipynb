{
 "cells": [
  {
   "cell_type": "markdown",
   "id": "78b088c8",
   "metadata": {},
   "source": [
    "#### 1. Индекс подобия Земле (Earth Similarity Index, $ESI$) является численной характеристикой «похожести» небесного тела на Землю. Формула: $ESI_j = \\prod\\limits_{i=1}^n \\left( 1-\\left|\\frac{x_{i,j}-x_{i,\\oplus}}{x_{i,j}+x_{i,\\oplus}} \\right|\\right)^{w_i/n}$, где $x_{i,j}$ — значение $i$-го параметра для $j$-го тела, $x_{i,\\oplus}$ — значение для Земли, $w_i$ — вес параметра. Параметры, используемые в формуле:\n",
    "|$i$|Параметр |Значение Земли, $x_{i,\\oplus}$|Вес, $w_i$|\n",
    "|---|---------|------------------------------|----------|\n",
    "| 1 |Радиус   | 1.0                          |0.57      |\n",
    "| 2 |Плотность| 1.0                          |1.07      |\n",
    "| 3 |Вторая космическая скорость, $v_{esc}$|1.0|0.7     |\n",
    "| 4 |Температура поверхности|288 K           |5.58      |\n",
    "#### $ESI$ лежит между $0$ и $1$, и чем ближе значение к $1$, тем тело более похоже на Землю (для которой $ESI = 1$). В файле `share\\esi-data.txt` в текстовом виде хранится информация о параметрах ряда небесных тел (первые 3 строки являются заголовком, разделители — пробелы). Напишите программу, которая вычисляет $ESI$ для указанных небесных тел и выводит информацию о теле, наиболее похожем на Землю."
   ]
  },
  {
   "cell_type": "code",
   "execution_count": 20,
   "id": "2f293a22-1abd-45d4-9367-6526ac11d9f4",
   "metadata": {},
   "outputs": [
    {
     "name": "stdout",
     "output_type": "stream",
     "text": [
      "Самое похожее на Землю: GJ 581 g\n",
      "ESI = 0.890\n"
     ]
    }
   ],
   "source": [
    "\n",
    "earth_radius = 1.0\n",
    "earth_density = 1.0\n",
    "earth_vesc = 1.0\n",
    "earth_temp = 288.0\n",
    "w_radius = 0.57\n",
    "w_density = 1.07\n",
    "w_vesc = 0.7\n",
    "w_temp = 5.58\n",
    "\n",
    "\n",
    "with open('share/esi-data.txt', 'r') as f:\n",
    "    lines = f.readlines()\n",
    "\n",
    "\n",
    "best_esi = 0\n",
    "best_name = \"\"\n",
    "\n",
    "for line in lines[3:]:\n",
    "    parts = line.split()\n",
    "    name = line[:16].strip()\n",
    "    radius = float(parts[-7])    \n",
    "    density = float(parts[-6])   \n",
    "    vesc = float(parts[-4])      \n",
    "    temp = float(parts[-2])\n",
    "    #if len(parts) >10:\n",
    "        #name_2 = parts[-10]\n",
    "       # name_3 = parts[-9]\n",
    "        #name = name + name_2 + name_3\n",
    "\n",
    "    esi_radius = (1 - abs(radius - earth_radius) / (radius + earth_radius)) ** (w_radius/4)\n",
    "    esi_density = (1 - abs(density - earth_density) / (density + earth_density)) ** (w_density/4)\n",
    "    esi_vesc = (1 - abs(vesc - earth_vesc) / (vesc + earth_vesc)) ** (w_vesc/4)\n",
    "    esi_temp = (1 - abs(temp - earth_temp) / (temp + earth_temp)) ** (w_temp/4)\n",
    "    \n",
    "    esi = esi_radius * esi_density * esi_vesc * esi_temp\n",
    "    \n",
    "    \n",
    "\n",
    "    if esi > best_esi and name != \"Earth\":\n",
    "        best_esi = esi\n",
    "        best_name = name \n",
    "\n",
    "print(f\"Самое похожее на Землю: {best_name}\")\n",
    "print(f\"ESI = {best_esi:.3f}\")"
   ]
  },
  {
   "cell_type": "markdown",
   "id": "7c02ebcf",
   "metadata": {},
   "source": [
    "#### 2. Уравнение Михаэлиса-Ментен — модельное уравнение кинетики ферментативной реакции: $v =\\frac{d[P]}{dt} = \\frac{V_{max}[S]}{K_m + [S]}$, где $v$ — скорость реакции превращения субстрата $\\mathrm{S}$ в продукт $\\mathrm{P}$, катализируемой ферментом. $V_{max}$  — максимальная скорость (когда весь фермент связан с $\\mathrm{S}$) а константа Михаэлиса, $K_m$, это концентрация субстрата, при которой скорость реакции равна половине своего максимального значения.\n",
    "#### В файл `kinetics.txt` запишите две колонки: $[S]$ (точность: 3 знака после точки) и $v$ (точность: 6 знаков после точки) для реакции с $K_m = 0.04\\:\\mathrm{M}$ и $V_{max}=0.1 \\:\\mathrm {M\\cdot s^{-1}}$ в диапазоне $0 \\leqslant [S] \\leqslant 0.2$ с шагом $0.01$. Первая строка файла должна содержать названия колонок."
   ]
  },
  {
   "cell_type": "code",
   "execution_count": 36,
   "id": "b0ea2196",
   "metadata": {},
   "outputs": [
    {
     "name": "stdout",
     "output_type": "stream",
     "text": [
      "Файл kinetics.txt создан!\n"
     ]
    }
   ],
   "source": [
    "\n",
    "Km = 0.04  \n",
    "Vmax = 0.1  \n",
    "\n",
    "\n",
    "with open('kinetics.txt', 'w') as f:\n",
    "\n",
    "    f.write(\"[S] (M)        v (M·s⁻¹)\\n\")\n",
    "    \n",
    "    S = 0.00\n",
    "    while S <= 0.21:\n",
    "       \n",
    "        v = (Vmax * S) / (Km + S)\n",
    "        \n",
    "        \n",
    "        f.write(f\"{S:.3f}          {v:.6f}\\n\")\n",
    "        \n",
    "        S += 0.01\n",
    "\n",
    "print(\"Файл kinetics.txt создан!\")"
   ]
  },
  {
   "cell_type": "markdown",
   "id": "0c745209",
   "metadata": {},
   "source": [
    "#### 3. В простейшем случае в качестве баз данных можно использовать словари. В ячейке ниже приведён словарь, содержащий некоторые свойства первых элементов группы IVA. Выведите эту информацию на экран в виде таблицы:<br>\n",
    "<img src=\"https://lk.challenges2024.ru/visualization/table1.png\" width=\"80%\" align=\"left\">"
   ]
  },
  {
   "cell_type": "code",
   "execution_count": 32,
   "id": "a24ab48d",
   "metadata": {},
   "outputs": [
    {
     "name": "stdout",
     "output_type": "stream",
     "text": [
      "Element  mass /u   Tm /K     Tb /K     rho /g.cm-3  IE /eV  atomic radius /pm\n",
      "--------------------------------------------------------------------------------\n",
      "C          12.00   3823.00   5100.00       3.51       11.26           77.20\n",
      "Si         28.10   1683.00   2628.00       2.33        8.15          117.00\n",
      "Ge         72.60   1211.00   3103.00       5.32        7.90          122.50\n"
     ]
    }
   ],
   "source": [
    "element_properties = {\n",
    "    'C': {\"mass /u\": 12.0, 'Tm /K': 3823, 'Tb /K': 5100,\n",
    "          'rho /g.cm-3': 3.51, 'IE /eV': 11.26, 'atomic radius /pm': 77.2},\n",
    "    'Si': {\"mass /u\": 28.1, 'Tm /K': 1683, 'Tb /K': 2628,\n",
    "           'rho /g.cm-3': 2.33, 'IE /eV': 8.15, 'atomic radius /pm': 117},\n",
    "    'Ge': {\"mass /u\": 72.6, 'Tm /K': 1211, 'Tb /K': 3103,\n",
    "           'rho /g.cm-3': 5.32, 'IE /eV': 7.90, 'atomic radius /pm': 122.5}\n",
    "}\n",
    "\n",
    "\n",
    "print(f\"Element  mass /u   Tm /K     Tb /K     rho /g.cm-3  IE /eV  atomic radius /pm\")\n",
    "print(\"-\" * 80)\n",
    "\n",
    "for element, props in element_properties.items():\n",
    "    print(f\"{element:7} {props['mass /u']:8.2f} {props['Tm /K']:9.2f} {props['Tb /K']:9.2f} \"\n",
    "          f\"{props['rho /g.cm-3']:10.2f} {props['IE /eV']:11.2f} {props['atomic radius /pm']:15.2f}\")"
   ]
  },
  {
   "cell_type": "markdown",
   "id": "5c2b5207",
   "metadata": {},
   "source": [
    "#### 4. Словари (так же как и множества) можно объединять при помощи оператора `|`. Добавьте в словарь, использованный выше свойства оставшихся элементов группы IVA и выведите их на экран в виде таблицы, но теперь, наоборот: в строках содержатся свойства, а в столбцах — элементы.¶"
   ]
  },
  {
   "cell_type": "code",
   "execution_count": 42,
   "id": "baae1095",
   "metadata": {},
   "outputs": [
    {
     "name": "stdout",
     "output_type": "stream",
     "text": [
      "Свойство                 C      Si      Ge      Sn      Pb\n",
      "------------------------------------------------------------\n",
      "mass /u              12.00   28.10   72.60  118.70  207.20\n",
      "Tm /K              3823.00 1683.00 1211.00  505.00  601.00\n",
      "Tb /K              5100.00 2628.00 3103.00 2543.00 2013.00\n",
      "rho /g.cm-3           3.51    2.33    5.32    7.29   11.30\n",
      "IE /eV               11.26    8.15    7.90    7.34    7.42\n",
      "atomic radius /pm    77.20  117.00  122.50  140.50  175.00\n"
     ]
    }
   ],
   "source": [
    "element_properties = {\n",
    "    'C': {\"mass /u\": 12.0, 'Tm /K': 3823, 'Tb /K': 5100,\n",
    "          'rho /g.cm-3': 3.51, 'IE /eV': 11.26, 'atomic radius /pm': 77.2},\n",
    "    'Si': {\"mass /u\": 28.1, 'Tm /K': 1683, 'Tb /K': 2628,\n",
    "           'rho /g.cm-3': 2.33, 'IE /eV': 8.15, 'atomic radius /pm': 117},\n",
    "    'Ge': {\"mass /u\": 72.6, 'Tm /K': 1211, 'Tb /K': 3103,\n",
    "           'rho /g.cm-3': 5.32, 'IE /eV': 7.90, 'atomic radius /pm': 122.5}\n",
    "}\n",
    "more_element_properties = {\n",
    "    'Sn': {\"mass /u\": 118.7, 'Tm /K': 505, 'Tb /K': 2543,\n",
    "           'rho /g.cm-3': 7.29, 'IE /eV': 7.34, 'atomic radius /pm': 140.5},\n",
    "    'Pb': {\"mass /u\": 207.2, 'Tm /K': 601, 'Tb /K': 2013,\n",
    "           'rho /g.cm-3': 11.3, 'IE /eV': 7.42, 'atomic radius /pm': 175}\n",
    "}\n",
    "all_elements = element_properties | more_element_properties\n",
    "\n",
    "properties = ['mass /u', 'Tm /K', 'Tb /K', 'rho /g.cm-3', 'IE /eV', 'atomic radius /pm']\n",
    "\n",
    "print(f\"{'Свойство':<18} {'C':>7} {'Si':>7} {'Ge':>7} {'Sn':>7} {'Pb':>7}\")\n",
    "print(\"-\" * 60)\n",
    "\n",
    "for prop in properties:\n",
    "    print(f\"{prop:<18}\", end=\"\")\n",
    "    for element in ['C', 'Si', 'Ge', 'Sn', 'Pb']:\n",
    "        print(f\"{all_elements[element][prop]:>8.2f}\", end=\"\")\n",
    "    print()"
   ]
  }
 ],
 "metadata": {
  "kernelspec": {
   "display_name": "Python 3 (ipykernel)",
   "language": "python",
   "name": "python3"
  },
  "language_info": {
   "codemirror_mode": {
    "name": "ipython",
    "version": 3
   },
   "file_extension": ".py",
   "mimetype": "text/x-python",
   "name": "python",
   "nbconvert_exporter": "python",
   "pygments_lexer": "ipython3",
   "version": "3.10.12"
  }
 },
 "nbformat": 4,
 "nbformat_minor": 5
}
